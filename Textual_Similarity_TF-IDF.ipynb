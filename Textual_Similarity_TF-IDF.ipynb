{
 "cells": [
  {
   "cell_type": "code",
   "execution_count": 2,
   "metadata": {
    "colab": {
     "base_uri": "https://localhost:8080/"
    },
    "id": "k4Zh_ca03wz2",
    "outputId": "ebaeb86c-50a0-4f6d-9f8d-3cbc60e430fd"
   },
   "outputs": [
    {
     "name": "stdout",
     "output_type": "stream",
     "text": [
      "Most similar paragraph:\n",
      "The sun began to set**, casting long shadows across the park. The sky was painted with shades of orange and pink, the clouds glowing with the last light of the day. The park was a spectacle, showcasing the beauty of the sunset.\n",
      "Similarity score: 0.52\n",
      "\n",
      "All similarity scores:\n",
      "Paragraph 1: 0.30\n",
      "Paragraph 2: 0.20\n",
      "Paragraph 3: 0.18\n",
      "Paragraph 4: 0.18\n",
      "Paragraph 5: 0.33\n",
      "Paragraph 6: 0.37\n",
      "Paragraph 7: 0.34\n",
      "Paragraph 8: 0.24\n",
      "Paragraph 9: 0.52\n",
      "Paragraph 10: 0.37\n"
     ]
    }
   ],
   "source": [
    "import pandas as pd\n",
    "from sklearn.feature_extraction.text import TfidfVectorizer\n",
    "from sklearn.metrics.pairwise import cosine_similarity\n",
    "\n",
    "file_path = '/Users/aryand/Desktop/Parent_Folder/Chem_Project/your_file.xlsx'  # Replace with the actual file path\n",
    "df = pd.read_excel(file_path)\n",
    "stored_paragraphs = df['Paragraph'].tolist()\n",
    "input_paragraph = \"As darkness fell, the park was bathed in the soft glow of the moon. The stars twinkled in the sky, their light reflected in the still lake. The park was at peace, ending another day in its timeless cycle.\"\n",
    "# contextual_meaning = Describing evening. \n",
    "vectorizer = TfidfVectorizer()\n",
    "\n",
    "# Fit and transform the stored paragraphs\n",
    "X = vectorizer.fit_transform(stored_paragraphs)\n",
    "\n",
    "# Transform the input paragraph\n",
    "input_vector = vectorizer.transform([input_paragraph])\n",
    "\n",
    "# Calculate the cosine similarity between the input paragraph and stored paragraphs\n",
    "similarities = cosine_similarity(input_vector, X).flatten()\n",
    "\n",
    "# Find the index of the most similar paragraph\n",
    "most_similar_index = similarities.argsort()[-1]\n",
    "\n",
    "\n",
    "print(f\"Most similar paragraph:\\n{stored_paragraphs[most_similar_index]}\")\n",
    "print(f\"Similarity score: {similarities[most_similar_index]:.2f}\")\n",
    "print()\n",
    "\n",
    "print(\"All similarity scores:\")\n",
    "for i, score in enumerate(similarities):\n",
    "    print(f\"Paragraph {i+1}: {score:.2f}\")"
   ]
  },
  {
   "cell_type": "code",
   "execution_count": null,
   "metadata": {},
   "outputs": [],
   "source": [
    "## Alphanumeric Dataset"
   ]
  },
  {
   "cell_type": "code",
   "execution_count": 8,
   "metadata": {},
   "outputs": [
    {
     "name": "stdout",
     "output_type": "stream",
     "text": [
      "Most similar paragraph:\n",
      "C16H12O6\n",
      "Similarity score: 0.00\n",
      "\n",
      "All similarity scores:\n",
      "Paragraph 1: 0.00\n",
      "Paragraph 2: 0.00\n",
      "Paragraph 3: 0.00\n",
      "Paragraph 4: 0.00\n",
      "Paragraph 5: 0.00\n",
      "Paragraph 6: 0.00\n",
      "Paragraph 7: 0.00\n",
      "Paragraph 8: 0.00\n",
      "Paragraph 9: 0.00\n"
     ]
    }
   ],
   "source": [
    "import pandas as pd\n",
    "from sklearn.feature_extraction.text import TfidfVectorizer\n",
    "from sklearn.metrics.pairwise import cosine_similarity\n",
    "\n",
    "file_path = '/Users/aryand/Desktop/Parent_Folder/Chem_Project/ASPIRIN_Alphanumeric.xlsx'  # Replace with the actual file path\n",
    "df = pd.read_excel(file_path)\n",
    "stored_paragraphs = df['Aspirin'].tolist()\n",
    "input_paragraph = \"C16H13NO7\"\n",
    "# contextual_meaning = Describing evening. \n",
    "vectorizer = TfidfVectorizer()\n",
    "\n",
    "# Fit and transform the stored paragraphs\n",
    "X = vectorizer.fit_transform(stored_paragraphs)\n",
    "\n",
    "# Transform the input paragraph\n",
    "input_vector = vectorizer.transform([input_paragraph])\n",
    "\n",
    "# Calculate the cosine similarity between the input paragraph and stored paragraphs\n",
    "similarities = cosine_similarity(input_vector, X).flatten()\n",
    "\n",
    "# Find the index of the most similar paragraph\n",
    "most_similar_index = similarities.argsort()[-1]\n",
    "\n",
    "\n",
    "print(f\"Most similar paragraph:\\n{stored_paragraphs[most_similar_index]}\")\n",
    "print(f\"Similarity score: {similarities[most_similar_index]:.2f}\")\n",
    "print()\n",
    "\n",
    "print(\"All similarity scores:\")\n",
    "for i, score in enumerate(similarities):\n",
    "    print(f\"Paragraph {i+1}: {score:.2f}\")"
   ]
  },
  {
   "cell_type": "code",
   "execution_count": 5,
   "metadata": {
    "id": "bxEBJD0S53J8"
   },
   "outputs": [
    {
     "name": "stdout",
     "output_type": "stream",
     "text": [
      "Most similar paragraph:\n",
      "C THIRTEEN H SIXTEEN N THREE NaO FOUR S\n",
      "Similarity score: 0.54\n",
      "\n",
      "All similarity scores:\n",
      "Paragraph 1: 0.00\n",
      "Paragraph 2: 0.29\n",
      "Paragraph 3: 0.00\n",
      "Paragraph 4: 0.00\n",
      "Paragraph 5: 0.54\n",
      "Paragraph 6: 0.26\n",
      "Paragraph 7: 0.00\n",
      "Paragraph 8: 0.00\n",
      "Paragraph 9: 0.29\n"
     ]
    }
   ],
   "source": [
    "import pandas as pd\n",
    "from sklearn.feature_extraction.text import TfidfVectorizer\n",
    "from sklearn.metrics.pairwise import cosine_similarity\n",
    "\n",
    "file_path = '/Users/aryand/Desktop/Parent_Folder/Chem_Project/aspirin.xlsx'  # Replace with the actual file path\n",
    "df = pd.read_excel(file_path)\n",
    "stored_paragraphs = df['Aspirin'].tolist()\n",
    "input_paragraph = \"C SIXTEEN H THIRTEEN NO SEVEN\"\n",
    "# contextual_meaning = Describing evening. \n",
    "vectorizer = TfidfVectorizer()\n",
    "\n",
    "# Fit and transform the stored paragraphs\n",
    "X = vectorizer.fit_transform(stored_paragraphs)\n",
    "\n",
    "# Transform the input paragraph\n",
    "input_vector = vectorizer.transform([input_paragraph])\n",
    "\n",
    "# Calculate the cosine similarity between the input paragraph and stored paragraphs\n",
    "similarities = cosine_similarity(input_vector, X).flatten()\n",
    "\n",
    "# Find the index of the most similar paragraph\n",
    "most_similar_index = similarities.argsort()[-1]\n",
    "\n",
    "\n",
    "print(f\"Most similar paragraph:\\n{stored_paragraphs[most_similar_index]}\")\n",
    "print(f\"Similarity score: {similarities[most_similar_index]:.2f}\")\n",
    "print()\n",
    "\n",
    "print(\"All similarity scores:\")\n",
    "for i, score in enumerate(similarities):\n",
    "    print(f\"Paragraph {i+1}: {score:.2f}\")"
   ]
  },
  {
   "cell_type": "code",
   "execution_count": null,
   "metadata": {},
   "outputs": [],
   "source": []
  },
  {
   "cell_type": "code",
   "execution_count": null,
   "metadata": {},
   "outputs": [],
   "source": []
  }
 ],
 "metadata": {
  "colab": {
   "provenance": []
  },
  "kernelspec": {
   "display_name": "Python 3 (ipykernel)",
   "language": "python",
   "name": "python3"
  },
  "language_info": {
   "codemirror_mode": {
    "name": "ipython",
    "version": 3
   },
   "file_extension": ".py",
   "mimetype": "text/x-python",
   "name": "python",
   "nbconvert_exporter": "python",
   "pygments_lexer": "ipython3",
   "version": "3.11.9"
  }
 },
 "nbformat": 4,
 "nbformat_minor": 4
}
